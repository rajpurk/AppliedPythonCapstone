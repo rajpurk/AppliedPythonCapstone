{
    "nbformat_minor": 1, 
    "cells": [
        {
            "execution_count": 1, 
            "cell_type": "code", 
            "metadata": {}, 
            "outputs": [
                {
                    "output_type": "stream", 
                    "name": "stdout", 
                    "text": "Requirement not upgraded as not directly required: beautifulsoup4 in /opt/conda/envs/DSX-Python35/lib/python3.5/site-packages\nRequirement not upgraded as not directly required: lxml in /opt/conda/envs/DSX-Python35/lib/python3.5/site-packages\nRequirement not upgraded as not directly required: html5lib in /opt/conda/envs/DSX-Python35/lib/python3.5/site-packages\nRequirement not upgraded as not directly required: six in /opt/conda/envs/DSX-Python35/lib/python3.5/site-packages (from html5lib)\nRequirement not upgraded as not directly required: webencodings in /opt/conda/envs/DSX-Python35/lib/python3.5/site-packages (from html5lib)\nRequirement not upgraded as not directly required: setuptools>=18.5 in /opt/conda/envs/DSX-Python35/lib/python3.5/site-packages (from html5lib)\nRequirement not upgraded as not directly required: requests in /opt/conda/envs/DSX-Python35/lib/python3.5/site-packages\nRequirement not upgraded as not directly required: chardet<3.1.0,>=3.0.2 in /opt/conda/envs/DSX-Python35/lib/python3.5/site-packages (from requests)\nRequirement not upgraded as not directly required: idna<2.7,>=2.5 in /opt/conda/envs/DSX-Python35/lib/python3.5/site-packages (from requests)\nRequirement not upgraded as not directly required: urllib3<1.23,>=1.21.1 in /opt/conda/envs/DSX-Python35/lib/python3.5/site-packages (from requests)\nRequirement not upgraded as not directly required: certifi>=2017.4.17 in /opt/conda/envs/DSX-Python35/lib/python3.5/site-packages (from requests)\nRequirement not upgraded as not directly required: wikipedia in /opt/conda/envs/DSX-Python35/lib/python3.5/site-packages\nRequirement not upgraded as not directly required: requests<3.0.0,>=2.0.0 in /opt/conda/envs/DSX-Python35/lib/python3.5/site-packages (from wikipedia)\nRequirement not upgraded as not directly required: beautifulsoup4 in /opt/conda/envs/DSX-Python35/lib/python3.5/site-packages (from wikipedia)\nRequirement not upgraded as not directly required: chardet<3.1.0,>=3.0.2 in /opt/conda/envs/DSX-Python35/lib/python3.5/site-packages (from requests<3.0.0,>=2.0.0->wikipedia)\nRequirement not upgraded as not directly required: idna<2.7,>=2.5 in /opt/conda/envs/DSX-Python35/lib/python3.5/site-packages (from requests<3.0.0,>=2.0.0->wikipedia)\nRequirement not upgraded as not directly required: urllib3<1.23,>=1.21.1 in /opt/conda/envs/DSX-Python35/lib/python3.5/site-packages (from requests<3.0.0,>=2.0.0->wikipedia)\nRequirement not upgraded as not directly required: certifi>=2017.4.17 in /opt/conda/envs/DSX-Python35/lib/python3.5/site-packages (from requests<3.0.0,>=2.0.0->wikipedia)\n"
                }
            ], 
            "source": "!pip install beautifulsoup4\n!pip install lxml\n!pip install html5lib\n!pip install requests\nfrom bs4 import BeautifulSoup as bs\nimport requests\n!pip install wikipedia"
        }, 
        {
            "execution_count": 52, 
            "cell_type": "code", 
            "metadata": {}, 
            "outputs": [], 
            "source": "#import wikipedia as w\n#import re\n##print(w.WikipediaPage(title='List_of_postal_codes_of_Canada:_M').summary)\n#from urllib.request import urlopen \n\n#mypage = w.WikipediaPage(title='List_of_postal_codes_of_Canada:_M')\n#myhtml = urlopen(mypage.url).read()\n#soup = bs(myhtml,'html.parser')\n#print(soup.prettify())\n#match = soup.title.text\n#print(match)\n#postcodes = soup.find_all('b')\n#print(postcodes)\n#match[2]\n#borough = soup.find_all('br')\n#print(borough)"
        }, 
        {
            "execution_count": 2, 
            "cell_type": "code", 
            "metadata": {}, 
            "outputs": [], 
            "source": "import requests\nsource = requests.get('https://en.wikipedia.org/wiki/List_of_postal_codes_of_Canada:_M').text\nsoup2 = bs(source,'lxml')\ndatapoint_all = soup2.find_all('td')\n#print(soup2.prettify())"
        }, 
        {
            "execution_count": 3, 
            "cell_type": "code", 
            "metadata": {}, 
            "outputs": [
                {
                    "output_type": "stream", 
                    "name": "stdout", 
                    "text": "M1A\nNot assigned\nM2A\nNot assigned\nM3A\nNorth York(Parkwoods)\nNorth York\nParkwoods\nM4A\nNorth York(Victoria Village)\nNorth York\nVictoria Village\nM5A\nDowntown Toronto(Regent Park / Harbourfront)\nDowntown Toronto\nRegent Park / Harbourfront\nM6A\nNorth York(Lawrence Manor / Lawrence Heights)\nNorth York\nLawrence Manor / Lawrence Heights\nM7A\nQueen's Park\n\nM8A\nNot assigned\nM9A\nEtobicoke(Islington Avenue)\nEtobicoke\nIslington Avenue\nM1B\nScarborough(Malvern / Rouge)\nScarborough\nMalvern / Rouge\nM2B\nNot assigned\nM3B\nNorth York(Don Mills)North\nNorth York\nDon Mills)Nort\nM4B\nEast York(Parkview Hill / Woodbine Gardens)\nEast York\nParkview Hill / Woodbine Gardens\nM5B\nDowntown Toronto(Garden District, Ryerson)\nDowntown Toronto\nGarden District, Ryerson\nM6B\nNorth York(Glencairn)\nNorth York\nGlencairn\nM7B\nNot assigned\nM8B\nNot assigned\nM9B\nEtobicoke(West Deane Park / Princess Gardens / Martin Grove / Islington / Cloverdale)\nEtobicoke\nWest Deane Park / Princess Gardens / Martin Grove / Islington / Cloverdale\nM1C\nScarborough(Rouge Hill / Port Union / Highland Creek)\nScarborough\nRouge Hill / Port Union / Highland Creek\nM2C\nNot assigned\nM3C\nNorth York(Don Mills)South(Flemingdon Park)\nNorth York\nDon Mills)Sout\nM4C\nEast York(Woodbine Heights)\nEast York\nWoodbine Heights\nM5C\nDowntown Toronto(St. James Town)\nDowntown Toronto\nSt. James Town\nM6C\nYork(Humewood-Cedarvale)\nYork\nHumewood-Cedarvale\nM7C\nNot assigned\nM8C\nNot assigned\nM9C\nEtobicoke(Eringate / Bloordale Gardens / Old Burnhamthorpe / Markland Wood)\nEtobicoke\nEringate / Bloordale Gardens / Old Burnhamthorpe / Markland Wood\nM1E\nScarborough(Guildwood / Morningside / West Hill)\nScarborough\nGuildwood / Morningside / West Hill\nM2E\nNot assigned\nM3E\nNot assigned\nM4E\nEast Toronto(The Beaches)\nEast Toronto\nThe Beaches\nM5E\nDowntown Toronto(Berczy Park)\nDowntown Toronto\nBerczy Park\nM6E\nYork(Caledonia-Fairbanks)\nYork\nCaledonia-Fairbanks\nM7E\nNot assigned\nM8E\nNot assigned\nM9E\nNot assigned\nM1G\nScarborough(Woburn)\nScarborough\nWoburn\nM2G\nNot assigned\nM3G\nNot assigned\nM4G\nEast York(Leaside)\nEast York\nLeaside\nM5G\nDowntown Toronto(Central Bay Street)\nDowntown Toronto\nCentral Bay Street\nM6G\nDowntown Toronto(Christie)\nDowntown Toronto\nChristie\nM7G\nNot assigned\nM8G\nNot assigned\nM9G\nNot assigned\nM1H\nScarborough(Cedarbrae)\nScarborough\nCedarbrae\nM2H\nNorth York(Hillcrest Village)\nNorth York\nHillcrest Village\nM3H\nNorth York(Bathurst Manor / Wilson Heights / Downsview North)\nNorth York\nBathurst Manor / Wilson Heights / Downsview North\nM4H\nEast York(Thorncliffe Park)\nEast York\nThorncliffe Park\nM5H\nDowntown Toronto(Richmond / Adelaide / King)\nDowntown Toronto\nRichmond / Adelaide / King\nM6H\nWest Toronto(Dufferin / Dovercourt Village)\nWest Toronto\nDufferin / Dovercourt Village\nM7H\nNot assigned\nM8H\nNot assigned\nM9H\nNot assigned\nM1J\nScarborough(Scarborough Village)\nScarborough\nScarborough Village\nM2J\nNorth York(Fairview / Henry Farm / Oriole)\nNorth York\nFairview / Henry Farm / Oriole\nM3J\nNorth York(Northwood Park / York University)\nNorth York\nNorthwood Park / York University\nM4J\nEast YorkEast Toronto(The Danforth  East)\nEast YorkEast Toronto\nThe Danforth  East\nM5J\nDowntown Toronto(Harbourfront East / Union Station / Toronto Islands)\nDowntown Toronto\nHarbourfront East / Union Station / Toronto Islands\nM6J\nWest Toronto(Little Portugal / Trinity)\nWest Toronto\nLittle Portugal / Trinity\nM7J\nNot assigned\nM8J\nNot assigned\nM9J\nNot assigned\nM1K\nScarborough(Kennedy Park / Ionview / East Birchmount Park)\nScarborough\nKennedy Park / Ionview / East Birchmount Park\nM2K\nNorth York(Bayview Village)\nNorth York\nBayview Village\nM3K\nNorth York(Downsview)East  (CFB Toronto)\nNorth York\nDownsview)East \nM4K\nEast Toronto(The Danforth West / Riverdale)\nEast Toronto\nThe Danforth West / Riverdale\nM5K\nDowntown Toronto(Toronto Dominion Centre / Design Exchange)\nDowntown Toronto\nToronto Dominion Centre / Design Exchange\nM6K\nWest Toronto(Brockton / Parkdale Village / Exhibition Place)\nWest Toronto\nBrockton / Parkdale Village / Exhibition Place\nM7K\nNot assigned\nM8K\nNot assigned\nM9K\nNot assigned\nM1L\nScarborough(Golden Mile / Clairlea / Oakridge)\nScarborough\nGolden Mile / Clairlea / Oakridge\nM2L\nNorth York(York Mills / Silver Hills)\nNorth York\nYork Mills / Silver Hills\nM3L\nNorth York(Downsview)West\nNorth York\nDownsview)Wes\nM4L\nEast Toronto(India Bazaar / The Beaches West)\nEast Toronto\nIndia Bazaar / The Beaches West\nM5L\nDowntown Toronto(Commerce Court / Victoria Hotel)\nDowntown Toronto\nCommerce Court / Victoria Hotel\nM6L\nNorth York(North Park / Maple Leaf Park / Upwood Park)\nNorth York\nNorth Park / Maple Leaf Park / Upwood Park\nM7L\nNot assigned\nM8L\nNot assigned\nM9L\nNorth York(Humber Summit)\nNorth York\nHumber Summit\nM1M\nScarborough(Cliffside / Cliffcrest / Scarborough Village West)\nScarborough\nCliffside / Cliffcrest / Scarborough Village West\nM2M\nNorth York(Willowdale / Newtonbrook)\nNorth York\nWillowdale / Newtonbrook\nM3M\nNorth York(Downsview)Central\nNorth York\nDownsview)Centra\nM4M\nEast Toronto(Studio District)\nEast Toronto\nStudio District\nM5M\nNorth York(Bedford Park / Lawrence Manor East)\nNorth York\nBedford Park / Lawrence Manor East\nM6M\nYork(Del Ray / Mount Dennis / Keelsdale and Silverthorn)\nYork\nDel Ray / Mount Dennis / Keelsdale and Silverthorn\nM7M\nNot assigned\nM8M\nNot assigned\nM9M\nNorth York(Humberlea / Emery)\nNorth York\nHumberlea / Emery\nM1N\nScarborough(Birch Cliff / Cliffside West)\nScarborough\nBirch Cliff / Cliffside West\nM2N\nNorth York(Willowdale)South\nNorth York\nWillowdale)Sout\nM3N\nNorth York(Downsview)Northwest\nNorth York\nDownsview)Northwes\nM4N\nCentral Toronto(Lawrence Park)\nCentral Toronto\nLawrence Park\nM5N\nCentral Toronto(Roselawn)\nCentral Toronto\nRoselawn\nM6N\nYork(Runnymede / The Junction North)\nYork\nRunnymede / The Junction North\nM7N\nNot assigned\nM8N\nNot assigned\nM9N\nYork(Weston)\nYork\nWeston\nM1P\nScarborough(Dorset Park / Wexford Heights / Scarborough Town Centre)\nScarborough\nDorset Park / Wexford Heights / Scarborough Town Centre\nM2P\nNorth York(York Mills West)\nNorth York\nYork Mills West\nM3P\nNot assigned\nM4P\nCentral Toronto(Davisville North)\nCentral Toronto\nDavisville North\nM5P\nCentral Toronto(Forest Hill North & West)\nCentral Toronto\nForest Hill North & West\nM6P\nWest Toronto(High Park / The Junction South)\nWest Toronto\nHigh Park / The Junction South\nM7P\nNot assigned\nM8P\nNot assigned\nM9P\nEtobicoke(Westmount)\nEtobicoke\nWestmount\nM1R\nScarborough(Wexford / Maryvale)\nScarborough\nWexford / Maryvale\nM2R\nNorth York(Willowdale)West\nNorth York\nWillowdale)Wes\nM3R\nNot assigned\nM4R\nCentral Toronto(North Toronto West)\nCentral Toronto\nNorth Toronto West\nM5R\nCentral Toronto(The Annex / North Midtown / Yorkville)\nCentral Toronto\nThe Annex / North Midtown / Yorkville\nM6R\nWest Toronto(Parkdale / Roncesvalles)\nWest Toronto\nParkdale / Roncesvalles\nM7R\nMississaugaCanada Post Gateway Processing Centre(Enclave of L4W)\nMississaugaCanada Post Gateway Processing Centre\nEnclave of L4W\nM8R\nNot assigned\nM9R\nEtobicoke(Kingsview Village / St. Phillips / Martin Grove Gardens / Richview Gardens)\nEtobicoke\nKingsview Village / St. Phillips / Martin Grove Gardens / Richview Gardens\nM1S\nScarborough(Agincourt) \nScarborough\nAgincourt)\nM2S\nNot assigned\nM3S\nNot assigned\nM4S\nCentral Toronto(Davisville)\nCentral Toronto\nDavisville\nM5S\nDowntown Toronto(University of Toronto / Harbord)\nDowntown Toronto\nUniversity of Toronto / Harbord\nM6S\nWest Toronto(Runnymede / Swansea)\nWest Toronto\nRunnymede / Swansea\nM7S\nNot assigned\nM8S\nNot assigned\nM9S\nNot assigned\nM1T\nScarborough(Clarks Corners / Tam O'Shanter / Sullivan)\nScarborough\nClarks Corners / Tam O'Shanter / Sullivan\nM2T\nNot assigned\nM3T\nNot assigned\nM4T\nCentral Toronto(Moore Park / Summerhill East)\nCentral Toronto\nMoore Park / Summerhill East\nM5T\nDowntown Toronto(Kensington Market / Chinatown / Grange Park)\nDowntown Toronto\nKensington Market / Chinatown / Grange Park\nM6T\nNot assigned\nM7T\nNot assigned\nM8T\nNot assigned\nM9T\nNot assigned\nM1V\nScarborough(Milliken / Agincourt North / Steeles East / L'Amoreaux East)\nScarborough\nMilliken / Agincourt North / Steeles East / L'Amoreaux East\nM2V\nNot assigned\nM3V\nNot assigned\nM4V\nCentral Toronto(Summerhill West / Rathnelly / South Hill / Forest Hill SE / Deer Park)\nCentral Toronto\nSummerhill West / Rathnelly / South Hill / Forest Hill SE / Deer Park\nM5V\nDowntown Toronto(CN Tower / King and Spadina / Railway Lands / Harbourfront West / Bathurst Quay / South Niagara / Island airport)\nDowntown Toronto\nCN Tower / King and Spadina / Railway Lands / Harbourfront West / Bathurst Quay / South Niagara / Island airport\nM6V\nNot assigned\nM7V\nNot assigned\nM8V\nEtobicoke(New Toronto / Mimico South / Humber Bay Shores)\nEtobicoke\nNew Toronto / Mimico South / Humber Bay Shores\nM9V\nEtobicoke(South Steeles / Silverstone / Humbergate / Jamestown / Mount Olive / Beaumond Heights / Thistletown / Albion Gardens)\nEtobicoke\nSouth Steeles / Silverstone / Humbergate / Jamestown / Mount Olive / Beaumond Heights / Thistletown / Albion Gardens\nM1W\nScarborough(Steeles West / L'Amoreaux West)\nScarborough\nSteeles West / L'Amoreaux West\nM2W\nNot assigned\nM3W\nNot assigned\nM4W\nDowntown Toronto(Rosedale)\nDowntown Toronto\nRosedale\nM5W\nDowntown TorontoStn A PO Boxes25 The Esplanade(Enclave of M5E)\nDowntown TorontoStn A PO Boxes25 The Esplanade\nEnclave of M5E\nM6W\nNot assigned\nM7W\nNot assigned\nM8W\nEtobicoke(Alderwood / Long Branch)\nEtobicoke\nAlderwood / Long Branch\nM9W\nEtobicokeNorthwest(Clairville / Humberwood / Woodbine Downs / West Humber / Kipling Heights / Rexdale / Elms / Tandridge / Old Rexdale)\nEtobicokeNorthwest\nClairville / Humberwood / Woodbine Downs / West Humber / Kipling Heights / Rexdale / Elms / Tandridge / Old Rexdale\nM1X\nScarborough(Upper Rouge)\nScarborough\nUpper Rouge\nM2X\nNot assigned\nM3X\nNot assigned\nM4X\nDowntown Toronto(St. James Town / Cabbagetown)\nDowntown Toronto\nSt. James Town / Cabbagetown\nM5X\nDowntown Toronto(First Canadian Place / Underground city)\nDowntown Toronto\nFirst Canadian Place / Underground city\nM6X\nNot assigned\nM7X\nNot assigned\nM8X\nEtobicoke(The Kingsway / Montgomery Road / Old Mill North)\nEtobicoke\nThe Kingsway / Montgomery Road / Old Mill North\nM9X\nNot assigned\nM1Y\nNot assigned\nM2Y\nNot assigned\nM3Y\nNot assigned\nM4Y\nDowntown Toronto(Church and Wellesley)\nDowntown Toronto\nChurch and Wellesley\nM5Y\nNot assigned\nM6Y\nNot assigned\nM7Y\nEast TorontoBusiness reply mail Processing Centre969 Eastern(Enclave of M4L)\nEast TorontoBusiness reply mail Processing Centre969 Eastern\nEnclave of M4L\nM8Y\nEtobicoke(Old Mill South / King's Mill Park / Sunnylea / Humber Bay / Mimico NE / The Queensway East / Royal York South East / Kingsway Park South East)\nEtobicoke\nOld Mill South / King's Mill Park / Sunnylea / Humber Bay / Mimico NE / The Queensway East / Royal York South East / Kingsway Park South East\nM9Y\nNot assigned\nM1Z\nNot assigned\nM2Z\nNot assigned\nM3Z\nNot assigned\nM4Z\nNot assigned\nM5Z\nNot assigned\nM6Z\nNot assigned\nM7Z\nNot assigned\nM8Z\nEtobicoke(Mimico NW / The Queensway West / South of Bloor / Kingsway Park South West / Royal York South West)\nEtobicoke\nMimico NW / The Queensway West / South of Bloor / Kingsway Park South West / Royal York South West\nM9Z\nNot assigned\nbooyah\nbooyah\nbooyah\nbooyah\nbooyah\nbooyah\nbooyah\nbooyah\nbooyah\nbooyah\nbooyah\nbooyah\nbooyah\nbooyah\nbooyah\nbooyah\nbooyah\nbooyah\nbooyah\nbooyah\nbooyah\nbooyah\nbooyah\nbooyah\nbooyah\nbooyah\nbooyah\nbooyah\nbooyah\nbooyah\nbooyah\nbooyah\nbooyah\nbooyah\nbooyah\n"
                }
            ], 
            "source": "import pandas as pd\n\nmydf = pd.DataFrame()\n\nfor datapoint in datapoint_all :\n    #print(datapoint)\n    postcode = datapoint.find('b')\n    if postcode is None:\n    \n        print('booyah')\n    else :\n        print(postcode.text)\n\n\n        temp = datapoint.find('span')\n        print(temp.text)\n        if (temp.text != 'Not assigned'):\n            temptext = temp.text\n            data = temptext.split('(')\n            if(len(data)>1) :\n                borough = data[0]\n                neighbourhood = data[1][0:-1]\n                print(borough)\n                print(neighbourhood)\n            else :\n                borough = data[0]\n                neighbourhood = borough\n        else :\n            neighbourhood = 'NA'\n            borough = 'NA'\n\n        mydf = mydf.append({\"PostalCode\":postcode.text,\"Borough\":borough,\"Neighbourhood\":neighbourhood},ignore_index = True)\n        #print(mydf)\n"
        }, 
        {
            "execution_count": 4, 
            "cell_type": "code", 
            "metadata": {}, 
            "outputs": [
                {
                    "output_type": "stream", 
                    "name": "stdout", 
                    "text": "(103, 3)\nNo of rows is 103\n"
                }
            ], 
            "source": "mydf = mydf[mydf.Borough !='NA']\nmydf\nmydf = mydf.reset_index(drop=True)\nmydf\nprint(mydf.shape)\nprint('No of rows is',mydf.shape[0])"
        }, 
        {
            "execution_count": null, 
            "cell_type": "code", 
            "metadata": {}, 
            "outputs": [], 
            "source": "\n"
        }, 
        {
            "execution_count": null, 
            "cell_type": "code", 
            "metadata": {}, 
            "outputs": [], 
            "source": ""
        }, 
        {
            "execution_count": null, 
            "cell_type": "code", 
            "metadata": {}, 
            "outputs": [], 
            "source": ""
        }, 
        {
            "execution_count": 6, 
            "cell_type": "code", 
            "metadata": {}, 
            "outputs": [], 
            "source": ""
        }, 
        {
            "execution_count": null, 
            "cell_type": "code", 
            "metadata": {}, 
            "outputs": [], 
            "source": ""
        }, 
        {
            "execution_count": null, 
            "cell_type": "code", 
            "metadata": {}, 
            "outputs": [], 
            "source": ""
        }, 
        {
            "execution_count": null, 
            "cell_type": "code", 
            "metadata": {
                "scrolled": true
            }, 
            "outputs": [], 
            "source": ""
        }, 
        {
            "execution_count": null, 
            "cell_type": "code", 
            "metadata": {}, 
            "outputs": [], 
            "source": ""
        }, 
        {
            "execution_count": null, 
            "cell_type": "code", 
            "metadata": {}, 
            "outputs": [], 
            "source": ""
        }, 
        {
            "execution_count": null, 
            "cell_type": "code", 
            "metadata": {}, 
            "outputs": [], 
            "source": ""
        }, 
        {
            "execution_count": 53, 
            "cell_type": "code", 
            "metadata": {}, 
            "outputs": [], 
            "source": "#datapoint_all = soup2.find_all('td')\n##print(datapoint_all)\n\n#datapoint = datapoint_all[2]\n#print(datapoint)\n#postcode = datapoint.find('b')\n#print(postcode.text)\n\n\n#temp = datapoint.find('span')\n#print(temp.text)\n#if (temp.text != 'Not assigned'):\n#    temptext = temp.text\n#    data = temptext.split('(')\n#    borough = data[0]\n#    neighbourhood = data[1][0:-1]\n#    print(borough)\n#    print(neighbourhood)\n"
        }, 
        {
            "execution_count": null, 
            "cell_type": "code", 
            "metadata": {}, 
            "outputs": [], 
            "source": "\n\n    "
        }, 
        {
            "execution_count": null, 
            "cell_type": "code", 
            "metadata": {
                "scrolled": true
            }, 
            "outputs": [], 
            "source": ""
        }, 
        {
            "execution_count": 49, 
            "cell_type": "code", 
            "metadata": {}, 
            "outputs": [], 
            "source": ""
        }, 
        {
            "execution_count": null, 
            "cell_type": "code", 
            "metadata": {}, 
            "outputs": [], 
            "source": ""
        }, 
        {
            "execution_count": null, 
            "cell_type": "code", 
            "metadata": {}, 
            "outputs": [], 
            "source": ""
        }
    ], 
    "metadata": {
        "kernelspec": {
            "display_name": "Python 3.5", 
            "name": "python3", 
            "language": "python"
        }, 
        "language_info": {
            "mimetype": "text/x-python", 
            "nbconvert_exporter": "python", 
            "version": "3.5.5", 
            "name": "python", 
            "file_extension": ".py", 
            "pygments_lexer": "ipython3", 
            "codemirror_mode": {
                "version": 3, 
                "name": "ipython"
            }
        }
    }, 
    "nbformat": 4
}